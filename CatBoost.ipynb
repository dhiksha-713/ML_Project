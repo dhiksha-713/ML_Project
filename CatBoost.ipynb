{
 "cells": [
  {
   "cell_type": "code",
   "execution_count": 41,
   "metadata": {},
   "outputs": [],
   "source": [
    "import pandas as pd\n",
    "\n",
    "import catboost\n",
    "from catboost import CatBoostClassifier\n",
    "\n",
    "from sklearn.model_selection import train_test_split\n",
    "from sklearn.metrics import accuracy_score\n",
    "from sklearn.metrics import classification_report\n",
    "from sklearn.metrics import confusion_matrix"
   ]
  },
  {
   "cell_type": "code",
   "execution_count": 81,
   "metadata": {},
   "outputs": [
    {
     "name": "stdout",
     "output_type": "stream",
     "text": [
      "First 5 testing data\n"
     ]
    },
    {
     "data": {
      "text/html": [
       "<div>\n",
       "<style scoped>\n",
       "    .dataframe tbody tr th:only-of-type {\n",
       "        vertical-align: middle;\n",
       "    }\n",
       "\n",
       "    .dataframe tbody tr th {\n",
       "        vertical-align: top;\n",
       "    }\n",
       "\n",
       "    .dataframe thead th {\n",
       "        text-align: right;\n",
       "    }\n",
       "</style>\n",
       "<table border=\"1\" class=\"dataframe\">\n",
       "  <thead>\n",
       "    <tr style=\"text-align: right;\">\n",
       "      <th></th>\n",
       "      <th>Suit of card #1</th>\n",
       "      <th>Rank of card #1</th>\n",
       "      <th>Suit of card #2</th>\n",
       "      <th>Rank of card #2</th>\n",
       "      <th>Suit of card #3</th>\n",
       "      <th>Rank of card #3</th>\n",
       "      <th>Suit of card #4</th>\n",
       "      <th>Rank of card #4</th>\n",
       "      <th>Suit of card #5</th>\n",
       "      <th>Rank of card #5</th>\n",
       "      <th>Poker Hand</th>\n",
       "    </tr>\n",
       "  </thead>\n",
       "  <tbody>\n",
       "    <tr>\n",
       "      <th>0</th>\n",
       "      <td>1</td>\n",
       "      <td>1</td>\n",
       "      <td>1</td>\n",
       "      <td>13</td>\n",
       "      <td>2</td>\n",
       "      <td>4</td>\n",
       "      <td>2</td>\n",
       "      <td>3</td>\n",
       "      <td>1</td>\n",
       "      <td>12</td>\n",
       "      <td>0</td>\n",
       "    </tr>\n",
       "    <tr>\n",
       "      <th>1</th>\n",
       "      <td>3</td>\n",
       "      <td>12</td>\n",
       "      <td>3</td>\n",
       "      <td>2</td>\n",
       "      <td>3</td>\n",
       "      <td>11</td>\n",
       "      <td>4</td>\n",
       "      <td>5</td>\n",
       "      <td>2</td>\n",
       "      <td>5</td>\n",
       "      <td>1</td>\n",
       "    </tr>\n",
       "    <tr>\n",
       "      <th>2</th>\n",
       "      <td>1</td>\n",
       "      <td>9</td>\n",
       "      <td>4</td>\n",
       "      <td>6</td>\n",
       "      <td>1</td>\n",
       "      <td>4</td>\n",
       "      <td>3</td>\n",
       "      <td>2</td>\n",
       "      <td>3</td>\n",
       "      <td>9</td>\n",
       "      <td>1</td>\n",
       "    </tr>\n",
       "    <tr>\n",
       "      <th>3</th>\n",
       "      <td>1</td>\n",
       "      <td>4</td>\n",
       "      <td>3</td>\n",
       "      <td>13</td>\n",
       "      <td>2</td>\n",
       "      <td>13</td>\n",
       "      <td>2</td>\n",
       "      <td>1</td>\n",
       "      <td>3</td>\n",
       "      <td>6</td>\n",
       "      <td>1</td>\n",
       "    </tr>\n",
       "    <tr>\n",
       "      <th>4</th>\n",
       "      <td>3</td>\n",
       "      <td>10</td>\n",
       "      <td>2</td>\n",
       "      <td>7</td>\n",
       "      <td>1</td>\n",
       "      <td>2</td>\n",
       "      <td>2</td>\n",
       "      <td>11</td>\n",
       "      <td>4</td>\n",
       "      <td>9</td>\n",
       "      <td>0</td>\n",
       "    </tr>\n",
       "  </tbody>\n",
       "</table>\n",
       "</div>"
      ],
      "text/plain": [
       "   Suit of card #1  Rank of card #1  Suit of card #2  Rank of card #2  \\\n",
       "0                1                1                1               13   \n",
       "1                3               12                3                2   \n",
       "2                1                9                4                6   \n",
       "3                1                4                3               13   \n",
       "4                3               10                2                7   \n",
       "\n",
       "   Suit of card #3  Rank of card #3  Suit of card #4  Rank of card #4  \\\n",
       "0                2                4                2                3   \n",
       "1                3               11                4                5   \n",
       "2                1                4                3                2   \n",
       "3                2               13                2                1   \n",
       "4                1                2                2               11   \n",
       "\n",
       "   Suit of card #5  Rank of card #5  Poker Hand  \n",
       "0                1               12           0  \n",
       "1                2                5           1  \n",
       "2                3                9           1  \n",
       "3                3                6           1  \n",
       "4                4                9           0  "
      ]
     },
     "execution_count": 81,
     "metadata": {},
     "output_type": "execute_result"
    }
   ],
   "source": [
    "column_names = [\"Suit of card #1\", \"Rank of card #1\", \"Suit of card #2\", \"Rank of card #2\", \"Suit of card #3\", \"Rank of card #3\", \"Suit of card #4\", \"Rank of card #4\", \"Suit of card #5\", \"Rank of card #5\", \"Poker Hand\"]\n",
    "poker_train = pd.read_csv('poker-training.data', header=None, names=column_names)\n",
    "poker_test = pd.read_csv('poker-testing.data', header=None, names=column_names)\n",
    "print(\"First 5 testing data\")\n",
    "poker_test.head()"
   ]
  },
  {
   "cell_type": "code",
   "execution_count": 78,
   "metadata": {},
   "outputs": [
    {
     "name": "stdout",
     "output_type": "stream",
     "text": [
      "First 5 training data\n"
     ]
    },
    {
     "data": {
      "text/html": [
       "<div>\n",
       "<style scoped>\n",
       "    .dataframe tbody tr th:only-of-type {\n",
       "        vertical-align: middle;\n",
       "    }\n",
       "\n",
       "    .dataframe tbody tr th {\n",
       "        vertical-align: top;\n",
       "    }\n",
       "\n",
       "    .dataframe thead th {\n",
       "        text-align: right;\n",
       "    }\n",
       "</style>\n",
       "<table border=\"1\" class=\"dataframe\">\n",
       "  <thead>\n",
       "    <tr style=\"text-align: right;\">\n",
       "      <th></th>\n",
       "      <th>Suit of card #1</th>\n",
       "      <th>Rank of card #1</th>\n",
       "      <th>Suit of card #2</th>\n",
       "      <th>Rank of card #2</th>\n",
       "      <th>Suit of card #3</th>\n",
       "      <th>Rank of card #3</th>\n",
       "      <th>Suit of card #4</th>\n",
       "      <th>Rank of card #4</th>\n",
       "      <th>Suit of card #5</th>\n",
       "      <th>Rank of card #5</th>\n",
       "      <th>Poker Hand</th>\n",
       "    </tr>\n",
       "  </thead>\n",
       "  <tbody>\n",
       "    <tr>\n",
       "      <th>0</th>\n",
       "      <td>1</td>\n",
       "      <td>10</td>\n",
       "      <td>1</td>\n",
       "      <td>11</td>\n",
       "      <td>1</td>\n",
       "      <td>13</td>\n",
       "      <td>1</td>\n",
       "      <td>12</td>\n",
       "      <td>1</td>\n",
       "      <td>1</td>\n",
       "      <td>9</td>\n",
       "    </tr>\n",
       "    <tr>\n",
       "      <th>1</th>\n",
       "      <td>2</td>\n",
       "      <td>11</td>\n",
       "      <td>2</td>\n",
       "      <td>13</td>\n",
       "      <td>2</td>\n",
       "      <td>10</td>\n",
       "      <td>2</td>\n",
       "      <td>12</td>\n",
       "      <td>2</td>\n",
       "      <td>1</td>\n",
       "      <td>9</td>\n",
       "    </tr>\n",
       "    <tr>\n",
       "      <th>2</th>\n",
       "      <td>3</td>\n",
       "      <td>12</td>\n",
       "      <td>3</td>\n",
       "      <td>11</td>\n",
       "      <td>3</td>\n",
       "      <td>13</td>\n",
       "      <td>3</td>\n",
       "      <td>10</td>\n",
       "      <td>3</td>\n",
       "      <td>1</td>\n",
       "      <td>9</td>\n",
       "    </tr>\n",
       "    <tr>\n",
       "      <th>3</th>\n",
       "      <td>4</td>\n",
       "      <td>10</td>\n",
       "      <td>4</td>\n",
       "      <td>11</td>\n",
       "      <td>4</td>\n",
       "      <td>1</td>\n",
       "      <td>4</td>\n",
       "      <td>13</td>\n",
       "      <td>4</td>\n",
       "      <td>12</td>\n",
       "      <td>9</td>\n",
       "    </tr>\n",
       "    <tr>\n",
       "      <th>4</th>\n",
       "      <td>4</td>\n",
       "      <td>1</td>\n",
       "      <td>4</td>\n",
       "      <td>13</td>\n",
       "      <td>4</td>\n",
       "      <td>12</td>\n",
       "      <td>4</td>\n",
       "      <td>11</td>\n",
       "      <td>4</td>\n",
       "      <td>10</td>\n",
       "      <td>9</td>\n",
       "    </tr>\n",
       "  </tbody>\n",
       "</table>\n",
       "</div>"
      ],
      "text/plain": [
       "   Suit of card #1  Rank of card #1  Suit of card #2  Rank of card #2  \\\n",
       "0                1               10                1               11   \n",
       "1                2               11                2               13   \n",
       "2                3               12                3               11   \n",
       "3                4               10                4               11   \n",
       "4                4                1                4               13   \n",
       "\n",
       "   Suit of card #3  Rank of card #3  Suit of card #4  Rank of card #4  \\\n",
       "0                1               13                1               12   \n",
       "1                2               10                2               12   \n",
       "2                3               13                3               10   \n",
       "3                4                1                4               13   \n",
       "4                4               12                4               11   \n",
       "\n",
       "   Suit of card #5  Rank of card #5  Poker Hand  \n",
       "0                1                1           9  \n",
       "1                2                1           9  \n",
       "2                3                1           9  \n",
       "3                4               12           9  \n",
       "4                4               10           9  "
      ]
     },
     "execution_count": 78,
     "metadata": {},
     "output_type": "execute_result"
    }
   ],
   "source": [
    "print(\"First 5 training data\")\n",
    "poker_train.head()"
   ]
  },
  {
   "cell_type": "code",
   "execution_count": 132,
   "metadata": {},
   "outputs": [],
   "source": [
    "# Assuming you have already loaded the dataset using Pandas and assigned it to a DataFrame called 'df'\n",
    "X = poker_train.drop(columns=[\"Poker Hand\"])  # Features (all columns except the target column 'label')\n",
    "Y = poker_train[\"Poker Hand\"]  # Target column\n",
    "X_train, X_test, Y_train, Y_test = train_test_split(X, Y, test_size=0.2, random_state=0)\n"
   ]
  },
  {
   "cell_type": "code",
   "execution_count": 109,
   "metadata": {},
   "outputs": [
    {
     "name": "stdout",
     "output_type": "stream",
     "text": [
      "0:\tlearn: 1.2278037\ttotal: 36.6ms\tremaining: 3.62s\n",
      "1:\tlearn: 1.0970497\ttotal: 70ms\tremaining: 3.43s\n",
      "2:\tlearn: 1.0251218\ttotal: 104ms\tremaining: 3.35s\n",
      "3:\tlearn: 0.9650303\ttotal: 131ms\tremaining: 3.15s\n",
      "4:\tlearn: 0.9360177\ttotal: 165ms\tremaining: 3.13s\n",
      "5:\tlearn: 0.9187770\ttotal: 193ms\tremaining: 3.03s\n",
      "6:\tlearn: 0.9096240\ttotal: 221ms\tremaining: 2.94s\n",
      "7:\tlearn: 0.8840371\ttotal: 251ms\tremaining: 2.88s\n",
      "8:\tlearn: 0.8770537\ttotal: 282ms\tremaining: 2.85s\n",
      "9:\tlearn: 0.8695773\ttotal: 378ms\tremaining: 3.4s\n",
      "10:\tlearn: 0.8644206\ttotal: 423ms\tremaining: 3.42s\n",
      "11:\tlearn: 0.8549372\ttotal: 475ms\tremaining: 3.48s\n",
      "12:\tlearn: 0.8456562\ttotal: 530ms\tremaining: 3.54s\n",
      "13:\tlearn: 0.8413038\ttotal: 571ms\tremaining: 3.51s\n",
      "14:\tlearn: 0.8354105\ttotal: 618ms\tremaining: 3.5s\n",
      "15:\tlearn: 0.8138067\ttotal: 656ms\tremaining: 3.44s\n",
      "16:\tlearn: 0.8107932\ttotal: 694ms\tremaining: 3.39s\n",
      "17:\tlearn: 0.8072445\ttotal: 734ms\tremaining: 3.35s\n",
      "18:\tlearn: 0.7981842\ttotal: 770ms\tremaining: 3.28s\n",
      "19:\tlearn: 0.7939745\ttotal: 804ms\tremaining: 3.21s\n",
      "20:\tlearn: 0.7904564\ttotal: 836ms\tremaining: 3.15s\n",
      "21:\tlearn: 0.7860535\ttotal: 871ms\tremaining: 3.09s\n",
      "22:\tlearn: 0.7802949\ttotal: 911ms\tremaining: 3.05s\n",
      "23:\tlearn: 0.7770053\ttotal: 956ms\tremaining: 3.03s\n",
      "24:\tlearn: 0.7711994\ttotal: 1s\tremaining: 3.01s\n",
      "25:\tlearn: 0.7655136\ttotal: 1.04s\tremaining: 2.98s\n",
      "26:\tlearn: 0.7606465\ttotal: 1.08s\tremaining: 2.92s\n",
      "27:\tlearn: 0.7577201\ttotal: 1.12s\tremaining: 2.88s\n",
      "28:\tlearn: 0.7515383\ttotal: 1.15s\tremaining: 2.82s\n",
      "29:\tlearn: 0.7488572\ttotal: 1.19s\tremaining: 2.79s\n",
      "30:\tlearn: 0.7461735\ttotal: 1.23s\tremaining: 2.73s\n",
      "31:\tlearn: 0.7405667\ttotal: 1.26s\tremaining: 2.68s\n",
      "32:\tlearn: 0.7358039\ttotal: 1.3s\tremaining: 2.63s\n",
      "33:\tlearn: 0.7304676\ttotal: 1.34s\tremaining: 2.61s\n",
      "34:\tlearn: 0.7281538\ttotal: 1.39s\tremaining: 2.58s\n",
      "35:\tlearn: 0.7244704\ttotal: 1.43s\tremaining: 2.54s\n",
      "36:\tlearn: 0.7220432\ttotal: 1.47s\tremaining: 2.5s\n",
      "37:\tlearn: 0.7192954\ttotal: 1.51s\tremaining: 2.46s\n",
      "38:\tlearn: 0.7167432\ttotal: 1.55s\tremaining: 2.43s\n",
      "39:\tlearn: 0.7144573\ttotal: 1.6s\tremaining: 2.4s\n",
      "40:\tlearn: 0.7070341\ttotal: 1.63s\tremaining: 2.35s\n",
      "41:\tlearn: 0.7038671\ttotal: 1.67s\tremaining: 2.31s\n",
      "42:\tlearn: 0.7018321\ttotal: 1.71s\tremaining: 2.27s\n",
      "43:\tlearn: 0.6962548\ttotal: 1.75s\tremaining: 2.23s\n",
      "44:\tlearn: 0.6933645\ttotal: 1.8s\tremaining: 2.2s\n",
      "45:\tlearn: 0.6912985\ttotal: 1.84s\tremaining: 2.16s\n",
      "46:\tlearn: 0.6886543\ttotal: 1.89s\tremaining: 2.13s\n",
      "47:\tlearn: 0.6856800\ttotal: 1.92s\tremaining: 2.08s\n",
      "48:\tlearn: 0.6836758\ttotal: 1.96s\tremaining: 2.04s\n",
      "49:\tlearn: 0.6806265\ttotal: 1.99s\tremaining: 1.99s\n",
      "50:\tlearn: 0.6782704\ttotal: 2.03s\tremaining: 1.95s\n",
      "51:\tlearn: 0.6757476\ttotal: 2.08s\tremaining: 1.92s\n",
      "52:\tlearn: 0.6712316\ttotal: 2.12s\tremaining: 1.88s\n",
      "53:\tlearn: 0.6690103\ttotal: 2.16s\tremaining: 1.84s\n",
      "54:\tlearn: 0.6649528\ttotal: 2.19s\tremaining: 1.8s\n",
      "55:\tlearn: 0.6601264\ttotal: 2.24s\tremaining: 1.76s\n",
      "56:\tlearn: 0.6573042\ttotal: 2.29s\tremaining: 1.73s\n",
      "57:\tlearn: 0.6553979\ttotal: 2.35s\tremaining: 1.7s\n",
      "58:\tlearn: 0.6520530\ttotal: 2.41s\tremaining: 1.67s\n",
      "59:\tlearn: 0.6495008\ttotal: 2.45s\tremaining: 1.63s\n",
      "60:\tlearn: 0.6476299\ttotal: 2.49s\tremaining: 1.59s\n",
      "61:\tlearn: 0.6450665\ttotal: 2.52s\tremaining: 1.55s\n",
      "62:\tlearn: 0.6423799\ttotal: 2.56s\tremaining: 1.5s\n",
      "63:\tlearn: 0.6401883\ttotal: 2.59s\tremaining: 1.46s\n",
      "64:\tlearn: 0.6379844\ttotal: 2.62s\tremaining: 1.41s\n",
      "65:\tlearn: 0.6358838\ttotal: 2.65s\tremaining: 1.37s\n",
      "66:\tlearn: 0.6340059\ttotal: 2.69s\tremaining: 1.32s\n",
      "67:\tlearn: 0.6320985\ttotal: 2.72s\tremaining: 1.28s\n",
      "68:\tlearn: 0.6267139\ttotal: 2.75s\tremaining: 1.24s\n",
      "69:\tlearn: 0.6252581\ttotal: 2.79s\tremaining: 1.2s\n",
      "70:\tlearn: 0.6206557\ttotal: 2.82s\tremaining: 1.15s\n",
      "71:\tlearn: 0.6147180\ttotal: 2.85s\tremaining: 1.11s\n",
      "72:\tlearn: 0.6105289\ttotal: 2.88s\tremaining: 1.07s\n",
      "73:\tlearn: 0.6086185\ttotal: 2.92s\tremaining: 1.02s\n",
      "74:\tlearn: 0.6066962\ttotal: 2.95s\tremaining: 984ms\n",
      "75:\tlearn: 0.6044733\ttotal: 2.98s\tremaining: 942ms\n",
      "76:\tlearn: 0.6028836\ttotal: 3.02s\tremaining: 901ms\n",
      "77:\tlearn: 0.6014167\ttotal: 3.05s\tremaining: 860ms\n",
      "78:\tlearn: 0.5996172\ttotal: 3.08s\tremaining: 819ms\n",
      "79:\tlearn: 0.5983144\ttotal: 3.11s\tremaining: 778ms\n",
      "80:\tlearn: 0.5963264\ttotal: 3.14s\tremaining: 736ms\n",
      "81:\tlearn: 0.5945632\ttotal: 3.17s\tremaining: 696ms\n",
      "82:\tlearn: 0.5928426\ttotal: 3.21s\tremaining: 657ms\n",
      "83:\tlearn: 0.5902389\ttotal: 3.24s\tremaining: 617ms\n",
      "84:\tlearn: 0.5887551\ttotal: 3.27s\tremaining: 577ms\n",
      "85:\tlearn: 0.5873654\ttotal: 3.3s\tremaining: 537ms\n",
      "86:\tlearn: 0.5858925\ttotal: 3.33s\tremaining: 498ms\n",
      "87:\tlearn: 0.5834850\ttotal: 3.36s\tremaining: 459ms\n",
      "88:\tlearn: 0.5776939\ttotal: 3.4s\tremaining: 421ms\n",
      "89:\tlearn: 0.5762147\ttotal: 3.44s\tremaining: 383ms\n",
      "90:\tlearn: 0.5745388\ttotal: 3.48s\tremaining: 344ms\n",
      "91:\tlearn: 0.5726936\ttotal: 3.51s\tremaining: 305ms\n",
      "92:\tlearn: 0.5711108\ttotal: 3.54s\tremaining: 266ms\n",
      "93:\tlearn: 0.5687801\ttotal: 3.58s\tremaining: 228ms\n",
      "94:\tlearn: 0.5669582\ttotal: 3.61s\tremaining: 190ms\n",
      "95:\tlearn: 0.5652172\ttotal: 3.64s\tremaining: 152ms\n",
      "96:\tlearn: 0.5639424\ttotal: 3.68s\tremaining: 114ms\n",
      "97:\tlearn: 0.5615175\ttotal: 3.78s\tremaining: 77.2ms\n",
      "98:\tlearn: 0.5601134\ttotal: 3.83s\tremaining: 38.7ms\n",
      "99:\tlearn: 0.5588809\ttotal: 3.86s\tremaining: 0us\n"
     ]
    },
    {
     "data": {
      "text/plain": [
       "<catboost.core.CatBoostClassifier at 0x247b152aa90>"
      ]
     },
     "execution_count": 109,
     "metadata": {},
     "output_type": "execute_result"
    }
   ],
   "source": [
    "cat_features = []  # List of column names that are categorical (if any)\n",
    "\n",
    "# Create the CatBoost classifier model\n",
    "model = catboost.CatBoostClassifier(iterations=100, learning_rate=0.5, depth=6, loss_function='MultiClass')\n",
    "\n",
    "# Fit the model on the training data\n",
    "model.fit(X_train, y_train, cat_features=cat_features)\n"
   ]
  },
  {
   "cell_type": "code",
   "execution_count": 110,
   "metadata": {},
   "outputs": [],
   "source": [
    "# Predict the target labels for the test data\n",
    "Y_pred = model.predict(X_test)\n"
   ]
  },
  {
   "cell_type": "code",
   "execution_count": 114,
   "metadata": {},
   "outputs": [
    {
     "name": "stdout",
     "output_type": "stream",
     "text": [
      "Accuracy: 0.5657736905237905\n"
     ]
    }
   ],
   "source": [
    "accuracy = accuracy_score(y_test, y_pred)\n",
    "print(\"Accuracy:\", accuracy)"
   ]
  },
  {
   "cell_type": "code",
   "execution_count": 115,
   "metadata": {},
   "outputs": [
    {
     "data": {
      "text/plain": [
       "0.670531787285086"
      ]
     },
     "execution_count": 115,
     "metadata": {},
     "output_type": "execute_result"
    }
   ],
   "source": [
    "model.score(X_test, y_test)"
   ]
  },
  {
   "cell_type": "code",
   "execution_count": 116,
   "metadata": {},
   "outputs": [
    {
     "name": "stdout",
     "output_type": "stream",
     "text": [
      "Score:               precision    recall  f1-score   support\n",
      "\n",
      "           0       0.70      0.70      0.70      2536\n",
      "           1       0.56      0.45      0.50      2079\n",
      "           2       0.17      0.35      0.23       259\n",
      "           3       0.11      0.26      0.15        92\n",
      "           4       0.00      0.00      0.00        20\n",
      "           5       0.25      0.40      0.31         5\n",
      "           6       0.00      0.00      0.00         9\n",
      "           7       0.00      0.00      0.00         0\n",
      "           8       0.50      1.00      0.67         1\n",
      "           9       0.00      0.00      0.00         1\n",
      "\n",
      "    accuracy                           0.57      5002\n",
      "   macro avg       0.23      0.32      0.26      5002\n",
      "weighted avg       0.60      0.57      0.58      5002\n",
      "\n"
     ]
    },
    {
     "name": "stderr",
     "output_type": "stream",
     "text": [
      "c:\\Users\\dhiks\\AppData\\Local\\Programs\\Python\\Python311\\Lib\\site-packages\\sklearn\\metrics\\_classification.py:1469: UndefinedMetricWarning: Recall and F-score are ill-defined and being set to 0.0 in labels with no true samples. Use `zero_division` parameter to control this behavior.\n",
      "  _warn_prf(average, modifier, msg_start, len(result))\n",
      "c:\\Users\\dhiks\\AppData\\Local\\Programs\\Python\\Python311\\Lib\\site-packages\\sklearn\\metrics\\_classification.py:1469: UndefinedMetricWarning: Recall and F-score are ill-defined and being set to 0.0 in labels with no true samples. Use `zero_division` parameter to control this behavior.\n",
      "  _warn_prf(average, modifier, msg_start, len(result))\n",
      "c:\\Users\\dhiks\\AppData\\Local\\Programs\\Python\\Python311\\Lib\\site-packages\\sklearn\\metrics\\_classification.py:1469: UndefinedMetricWarning: Recall and F-score are ill-defined and being set to 0.0 in labels with no true samples. Use `zero_division` parameter to control this behavior.\n",
      "  _warn_prf(average, modifier, msg_start, len(result))\n"
     ]
    }
   ],
   "source": [
    "score = classification_report(y_test, y_pred)\n",
    "print(\"Score:\", score)"
   ]
  },
  {
   "cell_type": "code",
   "execution_count": 117,
   "metadata": {},
   "outputs": [
    {
     "name": "stdout",
     "output_type": "stream",
     "text": [
      "Matrix: [[1785  545  129   54   11    6    6    0    0    0]\n",
      " [ 703  928  278  124   30    0   13    2    1    0]\n",
      " [  33  117   90   12    5    0    2    0    0    0]\n",
      " [  11   44   11   24    1    0    0    1    0    0]\n",
      " [   0    7    5    7    0    0    1    0    0    0]\n",
      " [   2    0    0    0    0    2    0    0    0    1]\n",
      " [   0    3    4    2    0    0    0    0    0    0]\n",
      " [   0    0    0    0    0    0    0    0    0    0]\n",
      " [   0    0    0    0    0    0    0    0    1    0]\n",
      " [   1    0    0    0    0    0    0    0    0    0]]\n"
     ]
    }
   ],
   "source": [
    "cm = confusion_matrix(y_test, y_pred)\n",
    "print(\"Matrix:\" , cm )"
   ]
  },
  {
   "cell_type": "code",
   "execution_count": 124,
   "metadata": {},
   "outputs": [],
   "source": [
    "#after sampling\n",
    "from imblearn.over_sampling import SMOTE\n",
    "\n",
    "# Instantiate SMOTE with desired settings\n",
    "smote = SMOTE(sampling_strategy='auto', k_neighbors=3, random_state=42)\n",
    "\n",
    "# Apply SMOTE to training data\n",
    "X_train_resampled, Y_train_resampled = smote.fit_resample(X_train, Y_train)\n"
   ]
  },
  {
   "cell_type": "code",
   "execution_count": 125,
   "metadata": {},
   "outputs": [
    {
     "name": "stdout",
     "output_type": "stream",
     "text": [
      "0:\tlearn: 2.1275577\ttotal: 256ms\tremaining: 25.3s\n",
      "1:\tlearn: 2.0133657\ttotal: 485ms\tremaining: 23.8s\n",
      "2:\tlearn: 1.8825417\ttotal: 924ms\tremaining: 29.9s\n",
      "3:\tlearn: 1.7906719\ttotal: 1.17s\tremaining: 28.2s\n",
      "4:\tlearn: 1.7227768\ttotal: 1.43s\tremaining: 27.1s\n",
      "5:\tlearn: 1.6552681\ttotal: 1.66s\tremaining: 26.1s\n",
      "6:\tlearn: 1.5955323\ttotal: 1.88s\tremaining: 24.9s\n",
      "7:\tlearn: 1.5504447\ttotal: 2.1s\tremaining: 24.1s\n",
      "8:\tlearn: 1.4950390\ttotal: 2.28s\tremaining: 23.1s\n",
      "9:\tlearn: 1.4415514\ttotal: 2.52s\tremaining: 22.7s\n",
      "10:\tlearn: 1.3978109\ttotal: 2.73s\tremaining: 22.1s\n",
      "11:\tlearn: 1.3666399\ttotal: 2.97s\tremaining: 21.8s\n",
      "12:\tlearn: 1.3202473\ttotal: 3.26s\tremaining: 21.8s\n",
      "13:\tlearn: 1.2897040\ttotal: 3.48s\tremaining: 21.4s\n",
      "14:\tlearn: 1.2647748\ttotal: 3.86s\tremaining: 21.9s\n",
      "15:\tlearn: 1.2410459\ttotal: 4.15s\tremaining: 21.8s\n",
      "16:\tlearn: 1.1998061\ttotal: 4.42s\tremaining: 21.6s\n",
      "17:\tlearn: 1.1848905\ttotal: 4.69s\tremaining: 21.4s\n",
      "18:\tlearn: 1.1644818\ttotal: 5.03s\tremaining: 21.4s\n",
      "19:\tlearn: 1.1277312\ttotal: 5.28s\tremaining: 21.1s\n",
      "20:\tlearn: 1.1088138\ttotal: 5.53s\tremaining: 20.8s\n",
      "21:\tlearn: 1.0897930\ttotal: 5.78s\tremaining: 20.5s\n",
      "22:\tlearn: 1.0637288\ttotal: 6.16s\tremaining: 20.6s\n",
      "23:\tlearn: 1.0531516\ttotal: 6.43s\tremaining: 20.4s\n",
      "24:\tlearn: 1.0289479\ttotal: 6.69s\tremaining: 20.1s\n",
      "25:\tlearn: 1.0128404\ttotal: 7.1s\tremaining: 20.2s\n",
      "26:\tlearn: 1.0042624\ttotal: 7.29s\tremaining: 19.7s\n",
      "27:\tlearn: 0.9872943\ttotal: 7.5s\tremaining: 19.3s\n",
      "28:\tlearn: 0.9717212\ttotal: 7.68s\tremaining: 18.8s\n",
      "29:\tlearn: 0.9572513\ttotal: 7.94s\tremaining: 18.5s\n",
      "30:\tlearn: 0.9382725\ttotal: 8.13s\tremaining: 18.1s\n",
      "31:\tlearn: 0.9230526\ttotal: 8.34s\tremaining: 17.7s\n",
      "32:\tlearn: 0.9171648\ttotal: 8.52s\tremaining: 17.3s\n",
      "33:\tlearn: 0.9086591\ttotal: 8.73s\tremaining: 17s\n",
      "34:\tlearn: 0.8990397\ttotal: 8.92s\tremaining: 16.6s\n",
      "35:\tlearn: 0.8896643\ttotal: 9.13s\tremaining: 16.2s\n",
      "36:\tlearn: 0.8846735\ttotal: 9.3s\tremaining: 15.8s\n",
      "37:\tlearn: 0.8738355\ttotal: 9.5s\tremaining: 15.5s\n",
      "38:\tlearn: 0.8600506\ttotal: 9.69s\tremaining: 15.2s\n",
      "39:\tlearn: 0.8519325\ttotal: 9.91s\tremaining: 14.9s\n",
      "40:\tlearn: 0.8425027\ttotal: 10.1s\tremaining: 14.6s\n",
      "41:\tlearn: 0.8383684\ttotal: 10.4s\tremaining: 14.4s\n",
      "42:\tlearn: 0.8233515\ttotal: 10.6s\tremaining: 14.1s\n",
      "43:\tlearn: 0.8127625\ttotal: 10.8s\tremaining: 13.8s\n",
      "44:\tlearn: 0.7969074\ttotal: 11.1s\tremaining: 13.6s\n",
      "45:\tlearn: 0.7856640\ttotal: 11.3s\tremaining: 13.3s\n",
      "46:\tlearn: 0.7705087\ttotal: 11.5s\tremaining: 13s\n",
      "47:\tlearn: 0.7645557\ttotal: 11.8s\tremaining: 12.7s\n",
      "48:\tlearn: 0.7513655\ttotal: 12s\tremaining: 12.5s\n",
      "49:\tlearn: 0.7400933\ttotal: 12.2s\tremaining: 12.2s\n",
      "50:\tlearn: 0.7347673\ttotal: 12.4s\tremaining: 11.9s\n",
      "51:\tlearn: 0.7284842\ttotal: 12.6s\tremaining: 11.6s\n",
      "52:\tlearn: 0.7205415\ttotal: 12.8s\tremaining: 11.4s\n",
      "53:\tlearn: 0.7146259\ttotal: 13s\tremaining: 11.1s\n",
      "54:\tlearn: 0.7045648\ttotal: 13.2s\tremaining: 10.8s\n",
      "55:\tlearn: 0.6966696\ttotal: 13.4s\tremaining: 10.5s\n",
      "56:\tlearn: 0.6940767\ttotal: 13.7s\tremaining: 10.3s\n",
      "57:\tlearn: 0.6879878\ttotal: 13.9s\tremaining: 10.1s\n",
      "58:\tlearn: 0.6818572\ttotal: 14.1s\tremaining: 9.83s\n",
      "59:\tlearn: 0.6742848\ttotal: 14.4s\tremaining: 9.6s\n",
      "60:\tlearn: 0.6683331\ttotal: 14.6s\tremaining: 9.34s\n",
      "61:\tlearn: 0.6612937\ttotal: 14.8s\tremaining: 9.08s\n",
      "62:\tlearn: 0.6532689\ttotal: 15s\tremaining: 8.81s\n",
      "63:\tlearn: 0.6465743\ttotal: 15.2s\tremaining: 8.54s\n",
      "64:\tlearn: 0.6429848\ttotal: 15.4s\tremaining: 8.28s\n",
      "65:\tlearn: 0.6410321\ttotal: 15.6s\tremaining: 8.02s\n",
      "66:\tlearn: 0.6383281\ttotal: 15.7s\tremaining: 7.75s\n",
      "67:\tlearn: 0.6346705\ttotal: 15.9s\tremaining: 7.5s\n",
      "68:\tlearn: 0.6284246\ttotal: 16.1s\tremaining: 7.25s\n",
      "69:\tlearn: 0.6214091\ttotal: 16.3s\tremaining: 6.99s\n",
      "70:\tlearn: 0.6196731\ttotal: 16.5s\tremaining: 6.74s\n",
      "71:\tlearn: 0.6146135\ttotal: 16.7s\tremaining: 6.49s\n",
      "72:\tlearn: 0.6089992\ttotal: 16.9s\tremaining: 6.24s\n",
      "73:\tlearn: 0.6058397\ttotal: 17.1s\tremaining: 5.99s\n",
      "74:\tlearn: 0.6017959\ttotal: 17.2s\tremaining: 5.75s\n",
      "75:\tlearn: 0.5958817\ttotal: 17.4s\tremaining: 5.51s\n",
      "76:\tlearn: 0.5936781\ttotal: 17.6s\tremaining: 5.26s\n",
      "77:\tlearn: 0.5878166\ttotal: 17.8s\tremaining: 5.02s\n",
      "78:\tlearn: 0.5820804\ttotal: 18s\tremaining: 4.78s\n",
      "79:\tlearn: 0.5783364\ttotal: 18.2s\tremaining: 4.54s\n",
      "80:\tlearn: 0.5723217\ttotal: 18.3s\tremaining: 4.3s\n",
      "81:\tlearn: 0.5686994\ttotal: 18.5s\tremaining: 4.07s\n",
      "82:\tlearn: 0.5649901\ttotal: 18.7s\tremaining: 3.83s\n",
      "83:\tlearn: 0.5619945\ttotal: 18.9s\tremaining: 3.6s\n",
      "84:\tlearn: 0.5590253\ttotal: 19.1s\tremaining: 3.37s\n",
      "85:\tlearn: 0.5567857\ttotal: 19.3s\tremaining: 3.14s\n",
      "86:\tlearn: 0.5519233\ttotal: 19.5s\tremaining: 2.91s\n",
      "87:\tlearn: 0.5505725\ttotal: 19.6s\tremaining: 2.68s\n",
      "88:\tlearn: 0.5470254\ttotal: 19.8s\tremaining: 2.45s\n",
      "89:\tlearn: 0.5452986\ttotal: 20s\tremaining: 2.22s\n",
      "90:\tlearn: 0.5422645\ttotal: 20.2s\tremaining: 2s\n",
      "91:\tlearn: 0.5390670\ttotal: 20.4s\tremaining: 1.77s\n",
      "92:\tlearn: 0.5366811\ttotal: 20.6s\tremaining: 1.55s\n",
      "93:\tlearn: 0.5341494\ttotal: 20.8s\tremaining: 1.32s\n",
      "94:\tlearn: 0.5316879\ttotal: 20.9s\tremaining: 1.1s\n",
      "95:\tlearn: 0.5281991\ttotal: 21.1s\tremaining: 880ms\n",
      "96:\tlearn: 0.5250502\ttotal: 21.3s\tremaining: 659ms\n",
      "97:\tlearn: 0.5215674\ttotal: 21.5s\tremaining: 439ms\n",
      "98:\tlearn: 0.5192481\ttotal: 21.7s\tremaining: 219ms\n",
      "99:\tlearn: 0.5159517\ttotal: 21.9s\tremaining: 0us\n"
     ]
    }
   ],
   "source": [
    "# Instantiate the CatBoost model\n",
    "model = CatBoostClassifier(iterations=100, learning_rate=0.1, depth=6, loss_function='MultiClass')\n",
    "\n",
    "# Fit the model on the resampled training data\n",
    "model.fit(X_train_resampled, Y_train_resampled)\n",
    "\n",
    "# Predict on test data\n",
    "y_pred = model.predict(X_test)\n"
   ]
  },
  {
   "cell_type": "code",
   "execution_count": 128,
   "metadata": {},
   "outputs": [
    {
     "name": "stdout",
     "output_type": "stream",
     "text": [
      "0.5\n"
     ]
    }
   ],
   "source": [
    "# Calculate accuracy\n",
    "accuracy = accuracy_score(Y_test, y_pred)\n",
    "\n",
    "print(accuracy)"
   ]
  },
  {
   "cell_type": "code",
   "execution_count": 130,
   "metadata": {},
   "outputs": [
    {
     "data": {
      "text/plain": [
       "0.5"
      ]
     },
     "execution_count": 130,
     "metadata": {},
     "output_type": "execute_result"
    }
   ],
   "source": [
    "model.score(X_test, y_test)"
   ]
  },
  {
   "cell_type": "code",
   "execution_count": 129,
   "metadata": {},
   "outputs": [
    {
     "name": "stdout",
     "output_type": "stream",
     "text": [
      "Score:               precision    recall  f1-score   support\n",
      "\n",
      "           0       0.67      0.69      0.68      2536\n",
      "           1       0.56      0.31      0.40      2079\n",
      "           2       0.12      0.29      0.17       259\n",
      "           3       0.08      0.32      0.13        92\n",
      "           4       0.02      0.15      0.04        20\n",
      "           5       0.09      0.80      0.16         5\n",
      "           6       0.00      0.00      0.00         9\n",
      "           7       0.00      0.00      0.00         0\n",
      "           8       0.11      1.00      0.20         1\n",
      "           9       0.00      0.00      0.00         1\n",
      "\n",
      "    accuracy                           0.50      5002\n",
      "   macro avg       0.17      0.36      0.18      5002\n",
      "weighted avg       0.58      0.50      0.52      5002\n",
      "\n"
     ]
    },
    {
     "name": "stderr",
     "output_type": "stream",
     "text": [
      "c:\\Users\\dhiks\\AppData\\Local\\Programs\\Python\\Python311\\Lib\\site-packages\\sklearn\\metrics\\_classification.py:1469: UndefinedMetricWarning: Recall and F-score are ill-defined and being set to 0.0 in labels with no true samples. Use `zero_division` parameter to control this behavior.\n",
      "  _warn_prf(average, modifier, msg_start, len(result))\n",
      "c:\\Users\\dhiks\\AppData\\Local\\Programs\\Python\\Python311\\Lib\\site-packages\\sklearn\\metrics\\_classification.py:1469: UndefinedMetricWarning: Recall and F-score are ill-defined and being set to 0.0 in labels with no true samples. Use `zero_division` parameter to control this behavior.\n",
      "  _warn_prf(average, modifier, msg_start, len(result))\n",
      "c:\\Users\\dhiks\\AppData\\Local\\Programs\\Python\\Python311\\Lib\\site-packages\\sklearn\\metrics\\_classification.py:1469: UndefinedMetricWarning: Recall and F-score are ill-defined and being set to 0.0 in labels with no true samples. Use `zero_division` parameter to control this behavior.\n",
      "  _warn_prf(average, modifier, msg_start, len(result))\n"
     ]
    }
   ],
   "source": [
    "score = classification_report(y_test, y_pred)\n",
    "print(\"Score:\", score)"
   ]
  },
  {
   "cell_type": "code",
   "execution_count": 131,
   "metadata": {},
   "outputs": [
    {
     "name": "stdout",
     "output_type": "stream",
     "text": [
      "Matrix: [[1751  362  192  131   36   28   22    6    5    3]\n",
      " [ 788  638  343  168   81   13   36    9    3    0]\n",
      " [  47   93   75   29    7    0    7    1    0    0]\n",
      " [  17   30    7   29    6    0    1    2    0    0]\n",
      " [   2    4    3    6    3    0    2    0    0    0]\n",
      " [   0    0    0    0    0    4    0    0    0    1]\n",
      " [   1    3    3    2    0    0    0    0    0    0]\n",
      " [   0    0    0    0    0    0    0    0    0    0]\n",
      " [   0    0    0    0    0    0    0    0    1    0]\n",
      " [   1    0    0    0    0    0    0    0    0    0]]\n"
     ]
    }
   ],
   "source": [
    "cm = confusion_matrix(y_test, y_pred)\n",
    "print(\"Matrix:\" , cm )"
   ]
  }
 ],
 "metadata": {
  "kernelspec": {
   "display_name": "Python 3",
   "language": "python",
   "name": "python3"
  },
  "language_info": {
   "codemirror_mode": {
    "name": "ipython",
    "version": 3
   },
   "file_extension": ".py",
   "mimetype": "text/x-python",
   "name": "python",
   "nbconvert_exporter": "python",
   "pygments_lexer": "ipython3",
   "version": "3.11.0"
  },
  "orig_nbformat": 4
 },
 "nbformat": 4,
 "nbformat_minor": 2
}

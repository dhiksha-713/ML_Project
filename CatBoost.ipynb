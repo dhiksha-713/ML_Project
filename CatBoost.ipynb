{
 "cells": [
  {
   "cell_type": "code",
   "execution_count": 42,
   "metadata": {},
   "outputs": [
    {
     "data": {
      "text/html": [
       "        <script type=\"text/javascript\">\n",
       "        window.PlotlyConfig = {MathJaxConfig: 'local'};\n",
       "        if (window.MathJax && window.MathJax.Hub && window.MathJax.Hub.Config) {window.MathJax.Hub.Config({SVG: {font: \"STIX-Web\"}});}\n",
       "        if (typeof require !== 'undefined') {\n",
       "        require.undef(\"plotly\");\n",
       "        requirejs.config({\n",
       "            paths: {\n",
       "                'plotly': ['https://cdn.plot.ly/plotly-2.24.1.min']\n",
       "            }\n",
       "        });\n",
       "        require(['plotly'], function(Plotly) {\n",
       "            window._Plotly = Plotly;\n",
       "        });\n",
       "        }\n",
       "        </script>\n",
       "        "
      ]
     },
     "metadata": {},
     "output_type": "display_data"
    }
   ],
   "source": [
    "import pandas as pd\n",
    "\n",
    "import catboost\n",
    "from catboost import CatBoostClassifier\n",
    "\n",
    "from sklearn.model_selection import train_test_split\n",
    "from sklearn.metrics import accuracy_score\n",
    "from sklearn.metrics import classification_report\n",
    "from sklearn.metrics import confusion_matrix\n",
    "import matplotlib.pyplot as plt\n",
    "import plotly.offline as py\n",
    "import plotly.graph_objs as go\n",
    "from plotly.offline import download_plotlyjs, init_notebook_mode, plot, iplot\n",
    "import plotly.tools as tls\n",
    "import plotly.figure_factory as ff\n",
    "py.init_notebook_mode(connected=True)"
   ]
  },
  {
   "cell_type": "code",
   "execution_count": 43,
   "metadata": {},
   "outputs": [],
   "source": [
    "# Data processing, metrics and modeling\n",
    "from sklearn.preprocessing import StandardScaler, LabelEncoder\n",
    "from sklearn.model_selection import GridSearchCV, cross_val_score, train_test_split, GridSearchCV, RandomizedSearchCV\n",
    "from sklearn.metrics import precision_score, recall_score, confusion_matrix,  roc_curve, precision_recall_curve, accuracy_score, roc_auc_score\n",
    "from sklearn.ensemble import AdaBoostClassifier\n",
    "\n",
    "# Stats\n",
    "import scipy.stats as ss\n",
    "from scipy import interp\n",
    "from scipy.stats import randint as sp_randint\n",
    "from scipy.stats import uniform as sp_uniform\n",
    "\n",
    "from sklearn.metrics import accuracy_score,classification_report, f1_score, precision_score, recall_score\n",
    "from sklearn.metrics import f1_score,precision_score,recall_score\n",
    "from sklearn.metrics import roc_auc_score\n",
    "from sklearn.metrics import mean_squared_error\n",
    "from imblearn.metrics import geometric_mean_score\n",
    "from sklearn.metrics import cohen_kappa_score\n",
    "from sklearn.metrics import matthews_corrcoef\n",
    "from sklearn.metrics import roc_curve\n",
    "from sklearn.metrics import ConfusionMatrixDisplay"
   ]
  },
  {
   "cell_type": "code",
   "execution_count": 44,
   "metadata": {},
   "outputs": [
    {
     "name": "stdout",
     "output_type": "stream",
     "text": [
      "First 5 testing data\n"
     ]
    },
    {
     "data": {
      "text/html": [
       "<div>\n",
       "<style scoped>\n",
       "    .dataframe tbody tr th:only-of-type {\n",
       "        vertical-align: middle;\n",
       "    }\n",
       "\n",
       "    .dataframe tbody tr th {\n",
       "        vertical-align: top;\n",
       "    }\n",
       "\n",
       "    .dataframe thead th {\n",
       "        text-align: right;\n",
       "    }\n",
       "</style>\n",
       "<table border=\"1\" class=\"dataframe\">\n",
       "  <thead>\n",
       "    <tr style=\"text-align: right;\">\n",
       "      <th></th>\n",
       "      <th>Suit of card #1</th>\n",
       "      <th>Rank of card #1</th>\n",
       "      <th>Suit of card #2</th>\n",
       "      <th>Rank of card #2</th>\n",
       "      <th>Suit of card #3</th>\n",
       "      <th>Rank of card #3</th>\n",
       "      <th>Suit of card #4</th>\n",
       "      <th>Rank of card #4</th>\n",
       "      <th>Suit of card #5</th>\n",
       "      <th>Rank of card #5</th>\n",
       "      <th>Poker Hand</th>\n",
       "    </tr>\n",
       "  </thead>\n",
       "  <tbody>\n",
       "    <tr>\n",
       "      <th>0</th>\n",
       "      <td>1</td>\n",
       "      <td>1</td>\n",
       "      <td>1</td>\n",
       "      <td>13</td>\n",
       "      <td>2</td>\n",
       "      <td>4</td>\n",
       "      <td>2</td>\n",
       "      <td>3</td>\n",
       "      <td>1</td>\n",
       "      <td>12</td>\n",
       "      <td>0</td>\n",
       "    </tr>\n",
       "    <tr>\n",
       "      <th>1</th>\n",
       "      <td>3</td>\n",
       "      <td>12</td>\n",
       "      <td>3</td>\n",
       "      <td>2</td>\n",
       "      <td>3</td>\n",
       "      <td>11</td>\n",
       "      <td>4</td>\n",
       "      <td>5</td>\n",
       "      <td>2</td>\n",
       "      <td>5</td>\n",
       "      <td>1</td>\n",
       "    </tr>\n",
       "    <tr>\n",
       "      <th>2</th>\n",
       "      <td>1</td>\n",
       "      <td>9</td>\n",
       "      <td>4</td>\n",
       "      <td>6</td>\n",
       "      <td>1</td>\n",
       "      <td>4</td>\n",
       "      <td>3</td>\n",
       "      <td>2</td>\n",
       "      <td>3</td>\n",
       "      <td>9</td>\n",
       "      <td>1</td>\n",
       "    </tr>\n",
       "    <tr>\n",
       "      <th>3</th>\n",
       "      <td>1</td>\n",
       "      <td>4</td>\n",
       "      <td>3</td>\n",
       "      <td>13</td>\n",
       "      <td>2</td>\n",
       "      <td>13</td>\n",
       "      <td>2</td>\n",
       "      <td>1</td>\n",
       "      <td>3</td>\n",
       "      <td>6</td>\n",
       "      <td>1</td>\n",
       "    </tr>\n",
       "    <tr>\n",
       "      <th>4</th>\n",
       "      <td>3</td>\n",
       "      <td>10</td>\n",
       "      <td>2</td>\n",
       "      <td>7</td>\n",
       "      <td>1</td>\n",
       "      <td>2</td>\n",
       "      <td>2</td>\n",
       "      <td>11</td>\n",
       "      <td>4</td>\n",
       "      <td>9</td>\n",
       "      <td>0</td>\n",
       "    </tr>\n",
       "  </tbody>\n",
       "</table>\n",
       "</div>"
      ],
      "text/plain": [
       "   Suit of card #1  Rank of card #1  Suit of card #2  Rank of card #2  \\\n",
       "0                1                1                1               13   \n",
       "1                3               12                3                2   \n",
       "2                1                9                4                6   \n",
       "3                1                4                3               13   \n",
       "4                3               10                2                7   \n",
       "\n",
       "   Suit of card #3  Rank of card #3  Suit of card #4  Rank of card #4  \\\n",
       "0                2                4                2                3   \n",
       "1                3               11                4                5   \n",
       "2                1                4                3                2   \n",
       "3                2               13                2                1   \n",
       "4                1                2                2               11   \n",
       "\n",
       "   Suit of card #5  Rank of card #5  Poker Hand  \n",
       "0                1               12           0  \n",
       "1                2                5           1  \n",
       "2                3                9           1  \n",
       "3                3                6           1  \n",
       "4                4                9           0  "
      ]
     },
     "execution_count": 44,
     "metadata": {},
     "output_type": "execute_result"
    }
   ],
   "source": [
    "column_names = [\"Suit of card #1\", \"Rank of card #1\", \"Suit of card #2\", \"Rank of card #2\", \"Suit of card #3\", \"Rank of card #3\", \"Suit of card #4\", \"Rank of card #4\", \"Suit of card #5\", \"Rank of card #5\", \"Poker Hand\"]\n",
    "poker_train = pd.read_csv('poker-training.data', header=None, names=column_names)\n",
    "poker_test = pd.read_csv('poker-testing.data', header=None, names=column_names)\n",
    "print(\"First 5 testing data\")\n",
    "poker_test.head() "
   ]
  },
  {
   "cell_type": "code",
   "execution_count": 45,
   "metadata": {},
   "outputs": [
    {
     "name": "stdout",
     "output_type": "stream",
     "text": [
      "First 5 training data\n"
     ]
    },
    {
     "data": {
      "text/html": [
       "<div>\n",
       "<style scoped>\n",
       "    .dataframe tbody tr th:only-of-type {\n",
       "        vertical-align: middle;\n",
       "    }\n",
       "\n",
       "    .dataframe tbody tr th {\n",
       "        vertical-align: top;\n",
       "    }\n",
       "\n",
       "    .dataframe thead th {\n",
       "        text-align: right;\n",
       "    }\n",
       "</style>\n",
       "<table border=\"1\" class=\"dataframe\">\n",
       "  <thead>\n",
       "    <tr style=\"text-align: right;\">\n",
       "      <th></th>\n",
       "      <th>Suit of card #1</th>\n",
       "      <th>Rank of card #1</th>\n",
       "      <th>Suit of card #2</th>\n",
       "      <th>Rank of card #2</th>\n",
       "      <th>Suit of card #3</th>\n",
       "      <th>Rank of card #3</th>\n",
       "      <th>Suit of card #4</th>\n",
       "      <th>Rank of card #4</th>\n",
       "      <th>Suit of card #5</th>\n",
       "      <th>Rank of card #5</th>\n",
       "      <th>Poker Hand</th>\n",
       "    </tr>\n",
       "  </thead>\n",
       "  <tbody>\n",
       "    <tr>\n",
       "      <th>0</th>\n",
       "      <td>1</td>\n",
       "      <td>10</td>\n",
       "      <td>1</td>\n",
       "      <td>11</td>\n",
       "      <td>1</td>\n",
       "      <td>13</td>\n",
       "      <td>1</td>\n",
       "      <td>12</td>\n",
       "      <td>1</td>\n",
       "      <td>1</td>\n",
       "      <td>9</td>\n",
       "    </tr>\n",
       "    <tr>\n",
       "      <th>1</th>\n",
       "      <td>2</td>\n",
       "      <td>11</td>\n",
       "      <td>2</td>\n",
       "      <td>13</td>\n",
       "      <td>2</td>\n",
       "      <td>10</td>\n",
       "      <td>2</td>\n",
       "      <td>12</td>\n",
       "      <td>2</td>\n",
       "      <td>1</td>\n",
       "      <td>9</td>\n",
       "    </tr>\n",
       "    <tr>\n",
       "      <th>2</th>\n",
       "      <td>3</td>\n",
       "      <td>12</td>\n",
       "      <td>3</td>\n",
       "      <td>11</td>\n",
       "      <td>3</td>\n",
       "      <td>13</td>\n",
       "      <td>3</td>\n",
       "      <td>10</td>\n",
       "      <td>3</td>\n",
       "      <td>1</td>\n",
       "      <td>9</td>\n",
       "    </tr>\n",
       "    <tr>\n",
       "      <th>3</th>\n",
       "      <td>4</td>\n",
       "      <td>10</td>\n",
       "      <td>4</td>\n",
       "      <td>11</td>\n",
       "      <td>4</td>\n",
       "      <td>1</td>\n",
       "      <td>4</td>\n",
       "      <td>13</td>\n",
       "      <td>4</td>\n",
       "      <td>12</td>\n",
       "      <td>9</td>\n",
       "    </tr>\n",
       "    <tr>\n",
       "      <th>4</th>\n",
       "      <td>4</td>\n",
       "      <td>1</td>\n",
       "      <td>4</td>\n",
       "      <td>13</td>\n",
       "      <td>4</td>\n",
       "      <td>12</td>\n",
       "      <td>4</td>\n",
       "      <td>11</td>\n",
       "      <td>4</td>\n",
       "      <td>10</td>\n",
       "      <td>9</td>\n",
       "    </tr>\n",
       "  </tbody>\n",
       "</table>\n",
       "</div>"
      ],
      "text/plain": [
       "   Suit of card #1  Rank of card #1  Suit of card #2  Rank of card #2  \\\n",
       "0                1               10                1               11   \n",
       "1                2               11                2               13   \n",
       "2                3               12                3               11   \n",
       "3                4               10                4               11   \n",
       "4                4                1                4               13   \n",
       "\n",
       "   Suit of card #3  Rank of card #3  Suit of card #4  Rank of card #4  \\\n",
       "0                1               13                1               12   \n",
       "1                2               10                2               12   \n",
       "2                3               13                3               10   \n",
       "3                4                1                4               13   \n",
       "4                4               12                4               11   \n",
       "\n",
       "   Suit of card #5  Rank of card #5  Poker Hand  \n",
       "0                1                1           9  \n",
       "1                2                1           9  \n",
       "2                3                1           9  \n",
       "3                4               12           9  \n",
       "4                4               10           9  "
      ]
     },
     "execution_count": 45,
     "metadata": {},
     "output_type": "execute_result"
    }
   ],
   "source": [
    "print(\"First 5 training data\")\n",
    "poker_train.head()"
   ]
  },
  {
   "cell_type": "code",
   "execution_count": 46,
   "metadata": {},
   "outputs": [],
   "source": [
    "# Assuming you have already loaded the dataset using Pandas and assigned it to a DataFrame called 'df'\n",
    "X_train = poker_train.drop('Poker Hand', axis='columns') # Features (all columns except the target column 'label')\n",
    "Y_train = poker_train[\"Poker Hand\"]  # Target column\n",
    "\n",
    "\n",
    "X_test = poker_test.drop('Poker Hand', axis='columns')\n",
    "Y_test = poker_test[\"Poker Hand\"]"
   ]
  },
  {
   "cell_type": "code",
   "execution_count": 47,
   "metadata": {},
   "outputs": [
    {
     "name": "stdout",
     "output_type": "stream",
     "text": [
      "0:\tlearn: 1.2233580\ttotal: 18.6ms\tremaining: 1.84s\n",
      "1:\tlearn: 1.0954660\ttotal: 33.6ms\tremaining: 1.65s\n",
      "2:\tlearn: 1.0164856\ttotal: 48.3ms\tremaining: 1.56s\n",
      "3:\tlearn: 0.9609907\ttotal: 62.8ms\tremaining: 1.51s\n",
      "4:\tlearn: 0.9326548\ttotal: 77.8ms\tremaining: 1.48s\n",
      "5:\tlearn: 0.9150747\ttotal: 93.3ms\tremaining: 1.46s\n",
      "6:\tlearn: 0.9050973\ttotal: 108ms\tremaining: 1.44s\n",
      "7:\tlearn: 0.8751133\ttotal: 123ms\tremaining: 1.42s\n",
      "8:\tlearn: 0.8614129\ttotal: 138ms\tremaining: 1.4s\n",
      "9:\tlearn: 0.8376048\ttotal: 153ms\tremaining: 1.38s\n",
      "10:\tlearn: 0.8325821\ttotal: 168ms\tremaining: 1.36s\n",
      "11:\tlearn: 0.8283476\ttotal: 183ms\tremaining: 1.34s\n",
      "12:\tlearn: 0.8249817\ttotal: 199ms\tremaining: 1.33s\n",
      "13:\tlearn: 0.8217067\ttotal: 214ms\tremaining: 1.32s\n",
      "14:\tlearn: 0.8119277\ttotal: 230ms\tremaining: 1.3s\n",
      "15:\tlearn: 0.8063219\ttotal: 246ms\tremaining: 1.29s\n",
      "16:\tlearn: 0.8014065\ttotal: 264ms\tremaining: 1.29s\n",
      "17:\tlearn: 0.7984580\ttotal: 282ms\tremaining: 1.28s\n",
      "18:\tlearn: 0.7887907\ttotal: 298ms\tremaining: 1.27s\n",
      "19:\tlearn: 0.7858356\ttotal: 314ms\tremaining: 1.25s\n",
      "20:\tlearn: 0.7819163\ttotal: 329ms\tremaining: 1.24s\n",
      "21:\tlearn: 0.7791746\ttotal: 347ms\tremaining: 1.23s\n",
      "22:\tlearn: 0.7741885\ttotal: 364ms\tremaining: 1.22s\n",
      "23:\tlearn: 0.7708990\ttotal: 381ms\tremaining: 1.21s\n",
      "24:\tlearn: 0.7675173\ttotal: 404ms\tremaining: 1.21s\n",
      "25:\tlearn: 0.7653597\ttotal: 424ms\tremaining: 1.21s\n",
      "26:\tlearn: 0.7625773\ttotal: 442ms\tremaining: 1.2s\n",
      "27:\tlearn: 0.7555546\ttotal: 460ms\tremaining: 1.18s\n",
      "28:\tlearn: 0.7500955\ttotal: 478ms\tremaining: 1.17s\n",
      "29:\tlearn: 0.7460941\ttotal: 496ms\tremaining: 1.16s\n",
      "30:\tlearn: 0.7394771\ttotal: 518ms\tremaining: 1.15s\n",
      "31:\tlearn: 0.7330353\ttotal: 534ms\tremaining: 1.14s\n",
      "32:\tlearn: 0.7270480\ttotal: 550ms\tremaining: 1.12s\n",
      "33:\tlearn: 0.7243301\ttotal: 567ms\tremaining: 1.1s\n",
      "34:\tlearn: 0.7218191\ttotal: 585ms\tremaining: 1.09s\n",
      "35:\tlearn: 0.7182766\ttotal: 602ms\tremaining: 1.07s\n",
      "36:\tlearn: 0.7157887\ttotal: 620ms\tremaining: 1.05s\n",
      "37:\tlearn: 0.7133168\ttotal: 636ms\tremaining: 1.04s\n",
      "38:\tlearn: 0.7088897\ttotal: 654ms\tremaining: 1.02s\n",
      "39:\tlearn: 0.7062321\ttotal: 671ms\tremaining: 1s\n",
      "40:\tlearn: 0.7006429\ttotal: 687ms\tremaining: 989ms\n",
      "41:\tlearn: 0.6981086\ttotal: 704ms\tremaining: 972ms\n",
      "42:\tlearn: 0.6956064\ttotal: 719ms\tremaining: 954ms\n",
      "43:\tlearn: 0.6925218\ttotal: 734ms\tremaining: 934ms\n",
      "44:\tlearn: 0.6896440\ttotal: 749ms\tremaining: 916ms\n",
      "45:\tlearn: 0.6877803\ttotal: 765ms\tremaining: 898ms\n",
      "46:\tlearn: 0.6842909\ttotal: 779ms\tremaining: 878ms\n",
      "47:\tlearn: 0.6806497\ttotal: 793ms\tremaining: 859ms\n",
      "48:\tlearn: 0.6778482\ttotal: 808ms\tremaining: 841ms\n",
      "49:\tlearn: 0.6757923\ttotal: 823ms\tremaining: 823ms\n",
      "50:\tlearn: 0.6739157\ttotal: 838ms\tremaining: 805ms\n",
      "51:\tlearn: 0.6720729\ttotal: 853ms\tremaining: 787ms\n",
      "52:\tlearn: 0.6702452\ttotal: 868ms\tremaining: 770ms\n",
      "53:\tlearn: 0.6681918\ttotal: 885ms\tremaining: 754ms\n",
      "54:\tlearn: 0.6665580\ttotal: 905ms\tremaining: 741ms\n",
      "55:\tlearn: 0.6646423\ttotal: 921ms\tremaining: 724ms\n",
      "56:\tlearn: 0.6630748\ttotal: 936ms\tremaining: 706ms\n",
      "57:\tlearn: 0.6611444\ttotal: 951ms\tremaining: 688ms\n",
      "58:\tlearn: 0.6597249\ttotal: 966ms\tremaining: 671ms\n",
      "59:\tlearn: 0.6582697\ttotal: 984ms\tremaining: 656ms\n",
      "60:\tlearn: 0.6562824\ttotal: 1s\tremaining: 640ms\n",
      "61:\tlearn: 0.6546551\ttotal: 1.02s\tremaining: 625ms\n",
      "62:\tlearn: 0.6527134\ttotal: 1.03s\tremaining: 608ms\n",
      "63:\tlearn: 0.6504355\ttotal: 1.05s\tremaining: 591ms\n",
      "64:\tlearn: 0.6484965\ttotal: 1.06s\tremaining: 574ms\n",
      "65:\tlearn: 0.6457702\ttotal: 1.08s\tremaining: 556ms\n",
      "66:\tlearn: 0.6441463\ttotal: 1.09s\tremaining: 539ms\n",
      "67:\tlearn: 0.6408633\ttotal: 1.11s\tremaining: 522ms\n",
      "68:\tlearn: 0.6391657\ttotal: 1.12s\tremaining: 505ms\n",
      "69:\tlearn: 0.6377613\ttotal: 1.14s\tremaining: 488ms\n",
      "70:\tlearn: 0.6365476\ttotal: 1.15s\tremaining: 471ms\n",
      "71:\tlearn: 0.6349642\ttotal: 1.17s\tremaining: 455ms\n",
      "72:\tlearn: 0.6332351\ttotal: 1.18s\tremaining: 438ms\n",
      "73:\tlearn: 0.6312934\ttotal: 1.2s\tremaining: 421ms\n",
      "74:\tlearn: 0.6298609\ttotal: 1.21s\tremaining: 404ms\n",
      "75:\tlearn: 0.6283594\ttotal: 1.23s\tremaining: 388ms\n",
      "76:\tlearn: 0.6259999\ttotal: 1.24s\tremaining: 371ms\n",
      "77:\tlearn: 0.6243317\ttotal: 1.26s\tremaining: 354ms\n",
      "78:\tlearn: 0.6187508\ttotal: 1.27s\tremaining: 338ms\n",
      "79:\tlearn: 0.6176002\ttotal: 1.29s\tremaining: 322ms\n",
      "80:\tlearn: 0.6165070\ttotal: 1.3s\tremaining: 305ms\n",
      "81:\tlearn: 0.6149227\ttotal: 1.32s\tremaining: 289ms\n",
      "82:\tlearn: 0.6128960\ttotal: 1.33s\tremaining: 273ms\n",
      "83:\tlearn: 0.6075726\ttotal: 1.35s\tremaining: 257ms\n",
      "84:\tlearn: 0.6059840\ttotal: 1.36s\tremaining: 241ms\n",
      "85:\tlearn: 0.6048057\ttotal: 1.38s\tremaining: 224ms\n",
      "86:\tlearn: 0.6018200\ttotal: 1.39s\tremaining: 208ms\n",
      "87:\tlearn: 0.5996032\ttotal: 1.41s\tremaining: 192ms\n",
      "88:\tlearn: 0.5940989\ttotal: 1.42s\tremaining: 176ms\n",
      "89:\tlearn: 0.5920093\ttotal: 1.44s\tremaining: 160ms\n",
      "90:\tlearn: 0.5908554\ttotal: 1.45s\tremaining: 144ms\n",
      "91:\tlearn: 0.5846929\ttotal: 1.47s\tremaining: 128ms\n",
      "92:\tlearn: 0.5812567\ttotal: 1.48s\tremaining: 112ms\n",
      "93:\tlearn: 0.5773197\ttotal: 1.5s\tremaining: 95.7ms\n",
      "94:\tlearn: 0.5761529\ttotal: 1.51s\tremaining: 79.7ms\n",
      "95:\tlearn: 0.5749181\ttotal: 1.53s\tremaining: 63.7ms\n",
      "96:\tlearn: 0.5720994\ttotal: 1.54s\tremaining: 47.8ms\n",
      "97:\tlearn: 0.5692600\ttotal: 1.56s\tremaining: 31.8ms\n",
      "98:\tlearn: 0.5680476\ttotal: 1.57s\tremaining: 15.9ms\n",
      "99:\tlearn: 0.5658187\ttotal: 1.59s\tremaining: 0us\n"
     ]
    },
    {
     "data": {
      "text/plain": [
       "<catboost.core.CatBoostClassifier at 0x249a45eb650>"
      ]
     },
     "execution_count": 47,
     "metadata": {},
     "output_type": "execute_result"
    }
   ],
   "source": [
    "cat_features = []  # List of column names that are categorical (if any)\n",
    "\n",
    "# Create the CatBoost classifier model\n",
    "model = catboost.CatBoostClassifier(iterations=100, learning_rate=0.5, depth=6, loss_function='MultiClass')\n",
    "\n",
    "# Fit the model on the training data\n",
    "model.fit(X_train, Y_train, cat_features=cat_features)\n"
   ]
  },
  {
   "cell_type": "code",
   "execution_count": 48,
   "metadata": {},
   "outputs": [
    {
     "data": {
      "text/plain": [
       "Poker Hand\n",
       "0    501209\n",
       "1    422498\n",
       "2     47622\n",
       "3     21121\n",
       "4      3885\n",
       "5      1996\n",
       "6      1424\n",
       "7       230\n",
       "8        12\n",
       "9         3\n",
       "Name: count, dtype: int64"
      ]
     },
     "execution_count": 48,
     "metadata": {},
     "output_type": "execute_result"
    }
   ],
   "source": [
    "Y_test.value_counts()"
   ]
  },
  {
   "cell_type": "code",
   "execution_count": 49,
   "metadata": {},
   "outputs": [],
   "source": [
    "# Predict the target labels for the test data\n",
    "Y_pred = model.predict(X_test)\n"
   ]
  },
  {
   "cell_type": "code",
   "execution_count": 50,
   "metadata": {},
   "outputs": [
    {
     "name": "stdout",
     "output_type": "stream",
     "text": [
      "Accuracy: 0.692904\n"
     ]
    }
   ],
   "source": [
    "accuracy = accuracy_score(Y_test, Y_pred) \n",
    "print(\"Accuracy:\", accuracy) "
   ]
  },
  {
   "cell_type": "code",
   "execution_count": 51,
   "metadata": {},
   "outputs": [
    {
     "data": {
      "text/plain": [
       "0.692904"
      ]
     },
     "execution_count": 51,
     "metadata": {},
     "output_type": "execute_result"
    }
   ],
   "source": [
    "model.score(X_test, Y_test)"
   ]
  },
  {
   "cell_type": "code",
   "execution_count": 52,
   "metadata": {},
   "outputs": [
    {
     "name": "stderr",
     "output_type": "stream",
     "text": [
      "c:\\Users\\dhiks\\AppData\\Local\\Programs\\Python\\Python311\\Lib\\site-packages\\sklearn\\metrics\\_classification.py:1469: UndefinedMetricWarning:\n",
      "\n",
      "Precision and F-score are ill-defined and being set to 0.0 in labels with no predicted samples. Use `zero_division` parameter to control this behavior.\n",
      "\n",
      "c:\\Users\\dhiks\\AppData\\Local\\Programs\\Python\\Python311\\Lib\\site-packages\\sklearn\\metrics\\_classification.py:1469: UndefinedMetricWarning:\n",
      "\n",
      "Precision and F-score are ill-defined and being set to 0.0 in labels with no predicted samples. Use `zero_division` parameter to control this behavior.\n",
      "\n"
     ]
    },
    {
     "name": "stdout",
     "output_type": "stream",
     "text": [
      "Score:               precision    recall  f1-score   support\n",
      "\n",
      "           0       0.72      0.84      0.78    501209\n",
      "           1       0.65      0.62      0.64    422498\n",
      "           2       0.51      0.08      0.14     47622\n",
      "           3       0.62      0.10      0.17     21121\n",
      "           4       0.15      0.02      0.03      3885\n",
      "           5       0.65      0.04      0.08      1996\n",
      "           6       0.00      0.00      0.00      1424\n",
      "           7       0.00      0.00      0.00       230\n",
      "           8       0.00      0.00      0.00        12\n",
      "           9       0.00      0.00      0.00         3\n",
      "\n",
      "    accuracy                           0.69   1000000\n",
      "   macro avg       0.33      0.17      0.18   1000000\n",
      "weighted avg       0.68      0.69      0.67   1000000\n",
      "\n"
     ]
    },
    {
     "name": "stderr",
     "output_type": "stream",
     "text": [
      "c:\\Users\\dhiks\\AppData\\Local\\Programs\\Python\\Python311\\Lib\\site-packages\\sklearn\\metrics\\_classification.py:1469: UndefinedMetricWarning:\n",
      "\n",
      "Precision and F-score are ill-defined and being set to 0.0 in labels with no predicted samples. Use `zero_division` parameter to control this behavior.\n",
      "\n"
     ]
    }
   ],
   "source": [
    "score = classification_report(Y_test, Y_pred)\n",
    "print(\"Score:\", score)"
   ]
  },
  {
   "cell_type": "code",
   "execution_count": 53,
   "metadata": {},
   "outputs": [
    {
     "name": "stdout",
     "output_type": "stream",
     "text": [
      "f1_score 0.6708829296605447\n",
      "Recall 0.692904\n",
      "Precision 0.6779580554350588\n"
     ]
    },
    {
     "name": "stderr",
     "output_type": "stream",
     "text": [
      "c:\\Users\\dhiks\\AppData\\Local\\Programs\\Python\\Python311\\Lib\\site-packages\\sklearn\\metrics\\_classification.py:1469: UndefinedMetricWarning:\n",
      "\n",
      "Precision is ill-defined and being set to 0.0 in labels with no predicted samples. Use `zero_division` parameter to control this behavior.\n",
      "\n"
     ]
    }
   ],
   "source": [
    "print(\"f1_score\", f1_score(Y_test, Y_pred,average=\"weighted\"))\n",
    "print(\"Recall\", recall_score(Y_test, Y_pred,average=\"weighted\"))\n",
    "print(\"Precision\", precision_score(Y_test, Y_pred,average=\"weighted\"))"
   ]
  },
  {
   "cell_type": "code",
   "execution_count": 54,
   "metadata": {},
   "outputs": [
    {
     "name": "stdout",
     "output_type": "stream",
     "text": [
      "[[423047  78107     18      4     15     18      0      0      0      0]\n",
      " [155271 263647   2800    525    226     25      1      1      0      2]\n",
      " [  4387  38733   3959    475     66      1      0      1      0      0]\n",
      " [   801  17563    608   2108     37      0      2      2      0      0]\n",
      " [   103   3681     34      5     61      0      0      0      0      1]\n",
      " [  1760    154      0      0      0     82      0      0      0      0]\n",
      " [     0    929    290    203      2      0      0      0      0      0]\n",
      " [     0    102     39     85      4      0      0      0      0      0]\n",
      " [     0     10      0      0      2      0      0      0      0      0]\n",
      " [     1      2      0      0      0      0      0      0      0      0]]\n"
     ]
    }
   ],
   "source": [
    "cm = confusion_matrix(Y_test, Y_pred)\n",
    "print(cm )"
   ]
  },
  {
   "cell_type": "code",
   "execution_count": 55,
   "metadata": {},
   "outputs": [
    {
     "data": {
      "image/png": "[encoded data removed]",
      "text/plain": [
       "<Figure size 640x480 with 2 Axes>"
      ]
     },
     "metadata": {},
     "output_type": "display_data"
    }
   ],
   "source": [
    "matrix_names = [\"Suit of card #1\", \"Rank of card #1\", \"Suit of card #2\", \"Rank of card #2\", \"Suit of card #3\", \"Rank of card #3\", \"Suit of card #4\", \"Rank of card #4\", \"Suit of card #5\", \"Rank of card #5\"]\n",
    "disp = ConfusionMatrixDisplay(confusion_matrix=cm, display_labels=matrix_names)\n",
    "disp.plot()\n",
    "plt.grid(False)"
   ]
  },
  {
   "cell_type": "code",
   "execution_count": 56,
   "metadata": {},
   "outputs": [
    {
     "name": "stdout",
     "output_type": "stream",
     "text": [
      "Mean_Squared_Error 0.49479\n",
      "G-Mean 0.0\n"
     ]
    },
    {
     "name": "stderr",
     "output_type": "stream",
     "text": [
      "c:\\Users\\dhiks\\AppData\\Local\\Programs\\Python\\Python311\\Lib\\site-packages\\sklearn\\preprocessing\\_label.py:132: DataConversionWarning:\n",
      "\n",
      "A column-vector y was passed when a 1d array was expected. Please change the shape of y to (n_samples, ), for example using ravel().\n",
      "\n"
     ]
    },
    {
     "name": "stdout",
     "output_type": "stream",
     "text": [
      "kappa 0.42698300708400805\n",
      "MCC 0.43176565649435783\n"
     ]
    }
   ],
   "source": [
    "print(\"Mean_Squared_Error\",mean_squared_error(Y_test, Y_pred))\n",
    "print(\"G-Mean\", geometric_mean_score(Y_test, Y_pred))\n",
    "print(\"kappa\", cohen_kappa_score( Y_test, Y_pred))\n",
    "print(\"MCC\", matthews_corrcoef(Y_test, Y_pred))"
   ]
  },
  {
   "cell_type": "code",
   "execution_count": 57,
   "metadata": {},
   "outputs": [],
   "source": [
    "#after sampling\n",
    "from imblearn.over_sampling import SMOTE\n",
    "\n",
    "# Instantiate SMOTE with desired settings\n",
    "smote = SMOTE(sampling_strategy='auto', k_neighbors=3, random_state=42)\n",
    "\n",
    "# Apply SMOTE to training data\n",
    "X_train_resampled, Y_train_resampled = smote.fit_resample(X_train, Y_train)\n"
   ]
  },
  {
   "cell_type": "code",
   "execution_count": 58,
   "metadata": {},
   "outputs": [
    {
     "name": "stdout",
     "output_type": "stream",
     "text": [
      "0:\tlearn: 2.1193178\ttotal: 83ms\tremaining: 8.22s\n",
      "1:\tlearn: 1.9948882\ttotal: 168ms\tremaining: 8.22s\n",
      "2:\tlearn: 1.9127215\ttotal: 254ms\tremaining: 8.21s\n",
      "3:\tlearn: 1.8235411\ttotal: 358ms\tremaining: 8.6s\n",
      "4:\tlearn: 1.7496859\ttotal: 434ms\tremaining: 8.25s\n",
      "5:\tlearn: 1.6884526\ttotal: 507ms\tremaining: 7.94s\n",
      "6:\tlearn: 1.6306918\ttotal: 582ms\tremaining: 7.72s\n",
      "7:\tlearn: 1.5858997\ttotal: 655ms\tremaining: 7.53s\n",
      "8:\tlearn: 1.5162636\ttotal: 727ms\tremaining: 7.35s\n",
      "9:\tlearn: 1.4720078\ttotal: 794ms\tremaining: 7.14s\n",
      "10:\tlearn: 1.4299251\ttotal: 862ms\tremaining: 6.98s\n",
      "11:\tlearn: 1.3916856\ttotal: 947ms\tremaining: 6.94s\n",
      "12:\tlearn: 1.3626749\ttotal: 1.03s\tremaining: 6.91s\n",
      "13:\tlearn: 1.3239427\ttotal: 1.11s\tremaining: 6.83s\n",
      "14:\tlearn: 1.2954216\ttotal: 1.19s\tremaining: 6.75s\n",
      "15:\tlearn: 1.2686916\ttotal: 1.26s\tremaining: 6.62s\n",
      "16:\tlearn: 1.2329794\ttotal: 1.33s\tremaining: 6.5s\n",
      "17:\tlearn: 1.2025930\ttotal: 1.4s\tremaining: 6.38s\n",
      "18:\tlearn: 1.1808891\ttotal: 1.48s\tremaining: 6.33s\n",
      "19:\tlearn: 1.1555865\ttotal: 1.57s\tremaining: 6.27s\n",
      "20:\tlearn: 1.1392491\ttotal: 1.65s\tremaining: 6.2s\n",
      "21:\tlearn: 1.1063608\ttotal: 1.72s\tremaining: 6.11s\n",
      "22:\tlearn: 1.0891901\ttotal: 1.79s\tremaining: 6.01s\n",
      "23:\tlearn: 1.0782888\ttotal: 1.86s\tremaining: 5.9s\n",
      "24:\tlearn: 1.0644857\ttotal: 1.93s\tremaining: 5.79s\n",
      "25:\tlearn: 1.0476146\ttotal: 2s\tremaining: 5.71s\n",
      "26:\tlearn: 1.0288375\ttotal: 2.09s\tremaining: 5.64s\n",
      "27:\tlearn: 1.0088376\ttotal: 2.16s\tremaining: 5.57s\n",
      "28:\tlearn: 0.9967877\ttotal: 2.24s\tremaining: 5.49s\n",
      "29:\tlearn: 0.9842029\ttotal: 2.31s\tremaining: 5.4s\n",
      "30:\tlearn: 0.9682882\ttotal: 2.39s\tremaining: 5.32s\n",
      "31:\tlearn: 0.9539833\ttotal: 2.46s\tremaining: 5.24s\n",
      "32:\tlearn: 0.9468012\ttotal: 2.54s\tremaining: 5.16s\n",
      "33:\tlearn: 0.9334369\ttotal: 2.62s\tremaining: 5.08s\n",
      "34:\tlearn: 0.9174224\ttotal: 2.69s\tremaining: 4.99s\n",
      "35:\tlearn: 0.9070566\ttotal: 2.76s\tremaining: 4.9s\n",
      "36:\tlearn: 0.8978575\ttotal: 2.84s\tremaining: 4.84s\n",
      "37:\tlearn: 0.8792535\ttotal: 2.93s\tremaining: 4.78s\n",
      "38:\tlearn: 0.8674234\ttotal: 3.03s\tremaining: 4.74s\n",
      "39:\tlearn: 0.8620056\ttotal: 3.13s\tremaining: 4.7s\n",
      "40:\tlearn: 0.8565846\ttotal: 3.21s\tremaining: 4.62s\n",
      "41:\tlearn: 0.8447516\ttotal: 3.28s\tremaining: 4.53s\n",
      "42:\tlearn: 0.8304508\ttotal: 3.35s\tremaining: 4.43s\n",
      "43:\tlearn: 0.8206394\ttotal: 3.42s\tremaining: 4.35s\n",
      "44:\tlearn: 0.8113672\ttotal: 3.49s\tremaining: 4.26s\n",
      "45:\tlearn: 0.8072079\ttotal: 3.56s\tremaining: 4.17s\n",
      "46:\tlearn: 0.7977849\ttotal: 3.63s\tremaining: 4.09s\n",
      "47:\tlearn: 0.7915063\ttotal: 3.7s\tremaining: 4.01s\n",
      "48:\tlearn: 0.7845631\ttotal: 3.77s\tremaining: 3.92s\n",
      "49:\tlearn: 0.7750250\ttotal: 3.84s\tremaining: 3.84s\n",
      "50:\tlearn: 0.7624265\ttotal: 3.9s\tremaining: 3.75s\n",
      "51:\tlearn: 0.7562838\ttotal: 3.97s\tremaining: 3.67s\n",
      "52:\tlearn: 0.7531570\ttotal: 4.04s\tremaining: 3.59s\n",
      "53:\tlearn: 0.7435178\ttotal: 4.12s\tremaining: 3.51s\n",
      "54:\tlearn: 0.7395169\ttotal: 4.19s\tremaining: 3.43s\n",
      "55:\tlearn: 0.7341754\ttotal: 4.27s\tremaining: 3.35s\n",
      "56:\tlearn: 0.7290297\ttotal: 4.34s\tremaining: 3.27s\n",
      "57:\tlearn: 0.7231682\ttotal: 4.42s\tremaining: 3.2s\n",
      "58:\tlearn: 0.7184158\ttotal: 4.49s\tremaining: 3.12s\n",
      "59:\tlearn: 0.7113210\ttotal: 4.56s\tremaining: 3.04s\n",
      "60:\tlearn: 0.7034624\ttotal: 4.63s\tremaining: 2.96s\n",
      "61:\tlearn: 0.6980355\ttotal: 4.7s\tremaining: 2.88s\n",
      "62:\tlearn: 0.6897129\ttotal: 4.77s\tremaining: 2.8s\n",
      "63:\tlearn: 0.6876108\ttotal: 4.84s\tremaining: 2.72s\n",
      "64:\tlearn: 0.6822762\ttotal: 4.91s\tremaining: 2.64s\n",
      "65:\tlearn: 0.6747877\ttotal: 4.98s\tremaining: 2.57s\n",
      "66:\tlearn: 0.6708486\ttotal: 5.07s\tremaining: 2.5s\n",
      "67:\tlearn: 0.6668017\ttotal: 5.18s\tremaining: 2.44s\n",
      "68:\tlearn: 0.6623642\ttotal: 5.25s\tremaining: 2.36s\n",
      "69:\tlearn: 0.6561007\ttotal: 5.33s\tremaining: 2.28s\n",
      "70:\tlearn: 0.6519227\ttotal: 5.39s\tremaining: 2.2s\n",
      "71:\tlearn: 0.6452032\ttotal: 5.48s\tremaining: 2.13s\n",
      "72:\tlearn: 0.6410161\ttotal: 5.57s\tremaining: 2.06s\n",
      "73:\tlearn: 0.6390646\ttotal: 5.65s\tremaining: 1.99s\n",
      "74:\tlearn: 0.6360675\ttotal: 5.75s\tremaining: 1.92s\n",
      "75:\tlearn: 0.6324800\ttotal: 5.86s\tremaining: 1.85s\n",
      "76:\tlearn: 0.6267382\ttotal: 5.95s\tremaining: 1.78s\n",
      "77:\tlearn: 0.6199235\ttotal: 6.06s\tremaining: 1.71s\n",
      "78:\tlearn: 0.6172761\ttotal: 6.17s\tremaining: 1.64s\n",
      "79:\tlearn: 0.6113166\ttotal: 6.26s\tremaining: 1.57s\n",
      "80:\tlearn: 0.6062942\ttotal: 6.36s\tremaining: 1.49s\n",
      "81:\tlearn: 0.6027757\ttotal: 6.45s\tremaining: 1.42s\n",
      "82:\tlearn: 0.5988877\ttotal: 6.53s\tremaining: 1.34s\n",
      "83:\tlearn: 0.5969241\ttotal: 6.61s\tremaining: 1.26s\n",
      "84:\tlearn: 0.5941608\ttotal: 6.68s\tremaining: 1.18s\n",
      "85:\tlearn: 0.5912197\ttotal: 6.76s\tremaining: 1.1s\n",
      "86:\tlearn: 0.5883826\ttotal: 6.83s\tremaining: 1.02s\n",
      "87:\tlearn: 0.5838575\ttotal: 6.9s\tremaining: 941ms\n",
      "88:\tlearn: 0.5798947\ttotal: 6.97s\tremaining: 862ms\n",
      "89:\tlearn: 0.5759518\ttotal: 7.04s\tremaining: 783ms\n",
      "90:\tlearn: 0.5724934\ttotal: 7.11s\tremaining: 703ms\n",
      "91:\tlearn: 0.5705813\ttotal: 7.18s\tremaining: 625ms\n",
      "92:\tlearn: 0.5662680\ttotal: 7.25s\tremaining: 546ms\n",
      "93:\tlearn: 0.5627363\ttotal: 7.33s\tremaining: 468ms\n",
      "94:\tlearn: 0.5601771\ttotal: 7.4s\tremaining: 390ms\n",
      "95:\tlearn: 0.5573928\ttotal: 7.48s\tremaining: 312ms\n",
      "96:\tlearn: 0.5549426\ttotal: 7.55s\tremaining: 234ms\n",
      "97:\tlearn: 0.5519117\ttotal: 7.63s\tremaining: 156ms\n",
      "98:\tlearn: 0.5484084\ttotal: 7.7s\tremaining: 77.8ms\n",
      "99:\tlearn: 0.5472685\ttotal: 7.78s\tremaining: 0us\n"
     ]
    }
   ],
   "source": [
    "# Instantiate the CatBoost model\n",
    "model = CatBoostClassifier(iterations=100, learning_rate=0.1, depth=6, loss_function='MultiClass')\n",
    "\n",
    "# Fit the model on the resampled training data\n",
    "model.fit(X_train_resampled, Y_train_resampled)\n",
    "\n",
    "# Predict on test data\n",
    "y_pred = model.predict(X_test)"
   ]
  },
  {
   "cell_type": "code",
   "execution_count": 59,
   "metadata": {},
   "outputs": [
    {
     "name": "stdout",
     "output_type": "stream",
     "text": [
      "0.489145\n"
     ]
    }
   ],
   "source": [
    "# Calculate accuracy\n",
    "accuracy = accuracy_score(Y_test, y_pred)\n",
    "\n",
    "print(accuracy)"
   ]
  },
  {
   "cell_type": "code",
   "execution_count": 61,
   "metadata": {},
   "outputs": [
    {
     "data": {
      "text/plain": [
       "0.489145"
      ]
     },
     "execution_count": 61,
     "metadata": {},
     "output_type": "execute_result"
    }
   ],
   "source": [
    "model.score(X_test, Y_test)"
   ]
  },
  {
   "cell_type": "code",
   "execution_count": 63,
   "metadata": {},
   "outputs": [
    {
     "name": "stderr",
     "output_type": "stream",
     "text": [
      "c:\\Users\\dhiks\\AppData\\Local\\Programs\\Python\\Python311\\Lib\\site-packages\\sklearn\\metrics\\_classification.py:1469: UndefinedMetricWarning:\n",
      "\n",
      "Precision and F-score are ill-defined and being set to 0.0 in labels with no predicted samples. Use `zero_division` parameter to control this behavior.\n",
      "\n",
      "c:\\Users\\dhiks\\AppData\\Local\\Programs\\Python\\Python311\\Lib\\site-packages\\sklearn\\metrics\\_classification.py:1469: UndefinedMetricWarning:\n",
      "\n",
      "Precision and F-score are ill-defined and being set to 0.0 in labels with no predicted samples. Use `zero_division` parameter to control this behavior.\n",
      "\n"
     ]
    },
    {
     "name": "stdout",
     "output_type": "stream",
     "text": [
      "Score:               precision    recall  f1-score   support\n",
      "\n",
      "           0       0.72      0.84      0.78    501209\n",
      "           1       0.65      0.62      0.64    422498\n",
      "           2       0.51      0.08      0.14     47622\n",
      "           3       0.62      0.10      0.17     21121\n",
      "           4       0.15      0.02      0.03      3885\n",
      "           5       0.65      0.04      0.08      1996\n",
      "           6       0.00      0.00      0.00      1424\n",
      "           7       0.00      0.00      0.00       230\n",
      "           8       0.00      0.00      0.00        12\n",
      "           9       0.00      0.00      0.00         3\n",
      "\n",
      "    accuracy                           0.69   1000000\n",
      "   macro avg       0.33      0.17      0.18   1000000\n",
      "weighted avg       0.68      0.69      0.67   1000000\n",
      "\n"
     ]
    },
    {
     "name": "stderr",
     "output_type": "stream",
     "text": [
      "c:\\Users\\dhiks\\AppData\\Local\\Programs\\Python\\Python311\\Lib\\site-packages\\sklearn\\metrics\\_classification.py:1469: UndefinedMetricWarning:\n",
      "\n",
      "Precision and F-score are ill-defined and being set to 0.0 in labels with no predicted samples. Use `zero_division` parameter to control this behavior.\n",
      "\n"
     ]
    }
   ],
   "source": [
    "score = classification_report(Y_test, Y_pred)\n",
    "print(\"Score:\", score)"
   ]
  },
  {
   "cell_type": "code",
   "execution_count": 68,
   "metadata": {},
   "outputs": [
    {
     "data": {
      "image/png": "[encoded data removed]",
      "text/plain": [
       "<Figure size 640x480 with 2 Axes>"
      ]
     },
     "metadata": {},
     "output_type": "display_data"
    }
   ],
   "source": [
    "disp = ConfusionMatrixDisplay(confusion_matrix=cm, display_labels=matrix_names)\n",
    "disp.plot()\n",
    "plt.grid(False)"
   ]
  },
  {
   "cell_type": "code",
   "execution_count": 64,
   "metadata": {},
   "outputs": [
    {
     "name": "stdout",
     "output_type": "stream",
     "text": [
      "f1_score 0.6708829296605447\n",
      "Recall 0.692904\n",
      "Precision 0.6779580554350588\n"
     ]
    },
    {
     "name": "stderr",
     "output_type": "stream",
     "text": [
      "c:\\Users\\dhiks\\AppData\\Local\\Programs\\Python\\Python311\\Lib\\site-packages\\sklearn\\metrics\\_classification.py:1469: UndefinedMetricWarning:\n",
      "\n",
      "Precision is ill-defined and being set to 0.0 in labels with no predicted samples. Use `zero_division` parameter to control this behavior.\n",
      "\n"
     ]
    }
   ],
   "source": [
    "print(\"f1_score\", f1_score(Y_test, Y_pred,average=\"weighted\"))\n",
    "print(\"Recall\", recall_score(Y_test, Y_pred,average=\"weighted\"))\n",
    "print(\"Precision\", precision_score(Y_test, Y_pred,average=\"weighted\"))"
   ]
  },
  {
   "cell_type": "code",
   "execution_count": 66,
   "metadata": {},
   "outputs": [
    {
     "name": "stdout",
     "output_type": "stream",
     "text": [
      "Matrix: [[423047  78107     18      4     15     18      0      0      0      0]\n",
      " [155271 263647   2800    525    226     25      1      1      0      2]\n",
      " [  4387  38733   3959    475     66      1      0      1      0      0]\n",
      " [   801  17563    608   2108     37      0      2      2      0      0]\n",
      " [   103   3681     34      5     61      0      0      0      0      1]\n",
      " [  1760    154      0      0      0     82      0      0      0      0]\n",
      " [     0    929    290    203      2      0      0      0      0      0]\n",
      " [     0    102     39     85      4      0      0      0      0      0]\n",
      " [     0     10      0      0      2      0      0      0      0      0]\n",
      " [     1      2      0      0      0      0      0      0      0      0]]\n"
     ]
    }
   ],
   "source": [
    "cm = confusion_matrix(Y_test, Y_pred)\n",
    "print(\"Matrix:\" , cm )"
   ]
  },
  {
   "cell_type": "code",
   "execution_count": 67,
   "metadata": {},
   "outputs": [
    {
     "name": "stdout",
     "output_type": "stream",
     "text": [
      "Mean_Squared_Error 0.49479\n",
      "G-Mean 0.0\n"
     ]
    },
    {
     "name": "stderr",
     "output_type": "stream",
     "text": [
      "c:\\Users\\dhiks\\AppData\\Local\\Programs\\Python\\Python311\\Lib\\site-packages\\sklearn\\preprocessing\\_label.py:132: DataConversionWarning:\n",
      "\n",
      "A column-vector y was passed when a 1d array was expected. Please change the shape of y to (n_samples, ), for example using ravel().\n",
      "\n"
     ]
    },
    {
     "name": "stdout",
     "output_type": "stream",
     "text": [
      "kappa 0.42698300708400805\n",
      "MCC 0.43176565649435783\n"
     ]
    }
   ],
   "source": [
    "print(\"Mean_Squared_Error\",mean_squared_error(Y_test, Y_pred))\n",
    "print(\"G-Mean\", geometric_mean_score(Y_test, Y_pred))\n",
    "print(\"kappa\", cohen_kappa_score( Y_test, Y_pred))\n",
    "print(\"MCC\", matthews_corrcoef(Y_test, Y_pred))"
   ]
  }
 ],
 "metadata": {
  "kernelspec": {
   "display_name": "Python 3",
   "language": "python",
   "name": "python3"
  },
  "language_info": {
   "codemirror_mode": {
    "name": "ipython",
    "version": 3
   },
   "file_extension": ".py",
   "mimetype": "text/x-python",
   "name": "python",
   "nbconvert_exporter": "python",
   "pygments_lexer": "ipython3",
   "version": "3.11.0"
  },
  "orig_nbformat": 4
 },
 "nbformat": 4,
 "nbformat_minor": 2
}
